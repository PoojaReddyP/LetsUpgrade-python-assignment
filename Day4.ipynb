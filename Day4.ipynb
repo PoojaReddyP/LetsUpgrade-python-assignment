{
  "nbformat": 4,
  "nbformat_minor": 0,
  "metadata": {
    "colab": {
      "name": "Day4.ipynb",
      "provenance": []
    },
    "kernelspec": {
      "name": "python3",
      "display_name": "Python 3"
    }
  },
  "cells": [
    {
      "cell_type": "code",
      "metadata": {
        "id": "6hfAdPc-fJPr",
        "colab_type": "code",
        "colab": {
          "base_uri": "https://localhost:8080/",
          "height": 119
        },
        "outputId": "f1f9edd8-5540-4296-bee6-8f5822ad45a3"
      },
      "source": [
        "#1.Find all occurrences of substring in a given string \n",
        "\n",
        "str1 = input(\"Enter the sentence:\")\n",
        "print(str1)\n",
        "str2 = input(\"Enter the word: \")\n",
        "count = 0\n",
        "for i in range(len(str1)): \n",
        "  if str1.startswith(str2, i):\n",
        "    count=count+1\n",
        "    print(f\"The word '{str2}' present in '{str1}' as: {count} --> {i} \")\n",
        "if count==0:\n",
        "  print(f\"The word '{str2}' is not present in '{str1}'\")"
      ],
      "execution_count": 4,
      "outputs": [
        {
          "output_type": "stream",
          "text": [
            "Enter the sentence:what we think we become;we are Python programmer\n",
            "what we think we become;we are Python programmer\n",
            "Enter the word: we\n",
            "The word 'we' present in 'what we think we become;we are Python programmer' as: 1 --> 5 \n",
            "The word 'we' present in 'what we think we become;we are Python programmer' as: 2 --> 14 \n",
            "The word 'we' present in 'what we think we become;we are Python programmer' as: 3 --> 24 \n"
          ],
          "name": "stdout"
        }
      ]
    },
    {
      "cell_type": "code",
      "metadata": {
        "id": "BppZWoWEfWYI",
        "colab_type": "code",
        "colab": {
          "base_uri": "https://localhost:8080/",
          "height": 136
        },
        "outputId": "542cf4d8-b412-448d-c745-52bfd3a2d8c9"
      },
      "source": [
        "n= int(input(\"Enter number of strings you want check:\"))\n",
        "for i in range(0,n):\n",
        "  str= input(\"Enter the string\")\n",
        "  upr= str.isupper()\n",
        "  print(\"The given string is uppercase:\",upr)\n",
        "  lwr= str.islower()\n",
        "  print(\"The given string is lowercase:\",lwr)"
      ],
      "execution_count": 5,
      "outputs": [
        {
          "output_type": "stream",
          "text": [
            "Enter number of strings you want check:2\n",
            "Enter the stringHELLO\n",
            "The given string is uppercase: True\n",
            "The given string is lowercase: False\n",
            "Enter the stringWaterMelon\n",
            "The given string is uppercase: False\n",
            "The given string is lowercase: False\n"
          ],
          "name": "stdout"
        }
      ]
    }
  ]
}