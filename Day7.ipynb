{
  "nbformat": 4,
  "nbformat_minor": 0,
  "metadata": {
    "colab": {
      "name": "Day7.ipynb",
      "provenance": [],
      "collapsed_sections": [],
      "authorship_tag": "ABX9TyMMxtkugoh7ovMsXWLljB6s"
    },
    "kernelspec": {
      "name": "python3",
      "display_name": "Python 3"
    }
  },
  "cells": [
    {
      "cell_type": "code",
      "metadata": {
        "id": "Ku21wlnSC2gE",
        "colab_type": "code",
        "colab": {
          "base_uri": "https://localhost:8080/",
          "height": 54
        },
        "outputId": "1f57404a-cf4a-4b50-ad48-dc56981495b2"
      },
      "source": [
        "port1={21:\"FTP\",22:\"SSH\",23:\"telnet\",80:\"http\"}\n",
        "d1=list(port1.keys())\n",
        "d2=list(port1.values())\n",
        "port2={d2[i]:d1[i] for i in range(len(d1))}\n",
        "print(port2)"
      ],
      "execution_count": null,
      "outputs": [
        {
          "output_type": "stream",
          "text": [
            "{'FTP': 21, 'SSH': 22, 'telnet': 23, 'http': 80}\n"
          ],
          "name": "stdout"
        }
      ]
    },
    {
      "cell_type": "code",
      "metadata": {
        "id": "anqtanGXDvwc",
        "colab_type": "code",
        "colab": {
          "base_uri": "https://localhost:8080/",
          "height": 34
        },
        "outputId": "00a7a4aa-3bbb-46d1-aef9-cb1f49548f5d"
      },
      "source": [
        "lst=[(1,2),(3,4),(5,6),(4,5)]\n",
        "res=[sum(i) for i in lst]\n",
        "print(res)"
      ],
      "execution_count": null,
      "outputs": [
        {
          "output_type": "stream",
          "text": [
            "[3, 7, 11, 9]\n"
          ],
          "name": "stdout"
        }
      ]
    },
    {
      "cell_type": "code",
      "metadata": {
        "id": "S0zG-VzEEMBa",
        "colab_type": "code",
        "colab": {
          "base_uri": "https://localhost:8080/",
          "height": 34
        },
        "outputId": "07421f05-e0aa-4a78-c64b-cbe08beca676"
      },
      "source": [
        " \n",
        "lst=[(1,2,3),[1,2],['a','hit','less']]\n",
        "res=[]\n",
        "for i in lst:\n",
        "    if type(i)==type(lst):\n",
        "        res=res+i\n",
        "    elif type(i)==tuple:\n",
        "        res.extend(i)\n",
        "    else:\n",
        "        res.append(i)\n",
        "print(res)"
      ],
      "execution_count": null,
      "outputs": [
        {
          "output_type": "stream",
          "text": [
            "[1, 2, 3, 1, 2, 'a', 'hit', 'less']\n"
          ],
          "name": "stdout"
        }
      ]
    }
  ]
}